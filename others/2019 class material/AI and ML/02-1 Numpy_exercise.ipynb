{
 "cells": [
  {
   "cell_type": "markdown",
   "metadata": {},
   "source": [
    "## Numpy练习"
   ]
  },
  {
   "cell_type": "markdown",
   "metadata": {},
   "source": [
    "### 1. 创建一个长度为10全为0的一维数组，然后让第5个元素等于1。"
   ]
  },
  {
   "cell_type": "code",
   "execution_count": 1,
   "metadata": {},
   "outputs": [
    {
     "name": "stdout",
     "output_type": "stream",
     "text": [
      "[0. 0. 0. 0. 0. 0. 0. 0. 0. 0.]\n",
      "[0. 0. 0. 0. 1. 0. 0. 0. 0. 0.]\n"
     ]
    }
   ],
   "source": [
    "import numpy as np\n",
    "first_list = np.zeros(10)\n",
    "print(first_list)\n",
    "first_list[4] = 1\n",
    "print(first_list)"
   ]
  },
  {
   "cell_type": "markdown",
   "metadata": {},
   "source": [
    "### 2. 生成一个4X5和一个5X4的矩阵，并计算它们的乘积。"
   ]
  },
  {
   "cell_type": "code",
   "execution_count": 2,
   "metadata": {},
   "outputs": [
    {
     "name": "stdout",
     "output_type": "stream",
     "text": [
      "[[ 175  190  205  220]\n",
      " [ 400  440  480  520]\n",
      " [ 625  690  755  820]\n",
      " [ 850  940 1030 1120]]\n"
     ]
    }
   ],
   "source": [
    "second_matrix = np.array([[1,2,3,4],[5,6,7,8],[9,10,11,12],[13,14,15,16],[17,18,19,20]])\n",
    "first_matrix = second_matrix.reshape(4,5)\n",
    "# print(first_matrix)\n",
    "# print(second_matrix)\n",
    "result = np.matmul(first_matrix,second_matrix)\n",
    "print(result)"
   ]
  },
  {
   "cell_type": "markdown",
   "metadata": {},
   "source": [
    "### 3. 函数 f 定义如下，其中x是任意实数: 𝑓(𝑥)=(sin⁡(𝑥+1)/𝑒^𝑥 )(𝑥+1)/2，生成一个数组a∈𝑅^5，计算b = f(a)。"
   ]
  },
  {
   "cell_type": "code",
   "execution_count": 3,
   "metadata": {},
   "outputs": [
    {
     "name": "stdout",
     "output_type": "stream",
     "text": [
      "[0.33451182923926226, 0.028647774391702796, -0.07535795514973172, -0.043908276840928503, -0.005648060452762271]\n"
     ]
    }
   ],
   "source": [
    "import math\n",
    "def f(x):\n",
    "    result = math.sin(x+1)/math.e**x * (x + 1)/2\n",
    "    return result\n",
    "a = [1,2,3,4,5]\n",
    "b = []\n",
    "for a_item in a:\n",
    "    result = f(a_item)\n",
    "    b.append(result)\n",
    "print(b)\n"
   ]
  },
  {
   "cell_type": "markdown",
   "metadata": {},
   "source": [
    "### 4. 随机生成一个5行10列的矩阵，然后每行元素减去该行的平均值"
   ]
  },
  {
   "cell_type": "code",
   "execution_count": 4,
   "metadata": {},
   "outputs": [
    {
     "name": "stdout",
     "output_type": "stream",
     "text": [
      "[[0.20046588 0.11435627 0.01449513 0.277741   0.21195624]\n",
      " [0.88058587 0.20011464 0.217408   0.79569204 0.14106385]\n",
      " [0.90013858 0.42662412 0.72235195 0.1235972  0.15819377]\n",
      " [0.32573365 0.86021908 0.06006714 0.13158752 0.15033487]]\n",
      "[[ 0.03666298 -0.04944664 -0.14930777  0.11393809  0.04815334]\n",
      " [ 0.43361299 -0.24685824 -0.22956488  0.34871916 -0.30590904]\n",
      " [ 0.43395745 -0.03955701  0.25617082 -0.34258392 -0.30798735]\n",
      " [ 0.02014519  0.55463063 -0.24552131 -0.17400093 -0.15525358]]\n"
     ]
    }
   ],
   "source": [
    "a = np.random.rand(4,5)\n",
    "print(a) \n",
    "for i in range(len(a)):\n",
    "    row = a[i]\n",
    "    row_average = np.mean(row)\n",
    "    a[i] = row - row_average\n",
    "print(a)"
   ]
  }
 ],
 "metadata": {
  "kernelspec": {
   "display_name": "Python 3",
   "language": "python",
   "name": "python3"
  },
  "language_info": {
   "codemirror_mode": {
    "name": "ipython",
    "version": 3
   },
   "file_extension": ".py",
   "mimetype": "text/x-python",
   "name": "python",
   "nbconvert_exporter": "python",
   "pygments_lexer": "ipython3",
   "version": "3.7.4"
  }
 },
 "nbformat": 4,
 "nbformat_minor": 2
}
