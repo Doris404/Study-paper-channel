{
 "cells": [
  {
   "cell_type": "markdown",
   "metadata": {},
   "source": [
    "### 1. 找一句你钦佩的名人说的名言，将名人的姓名存储在变量famous_person 中，再将他说的名言存储在变量message 中，然后如下显示出该名人说了该名言（包括引号）：\n",
    "xxx once said, \"......\""
   ]
  },
  {
   "cell_type": "code",
   "execution_count": 1,
   "metadata": {},
   "outputs": [],
   "source": [
    "famous_person = \"Eduard Einstein\"\n",
    "message = \"When you leave school, you forget what you have learned.\""
   ]
  },
  {
   "cell_type": "markdown",
   "metadata": {},
   "source": [
    "### 2. 将一些朋友的姓名存储在一个列表中，并将其命名为names。\n",
    "(1) 依次显示出列表中所有朋友的姓名；\n",
    "\n",
    "(2) 将列表中的姓名按字典顺序排序后，再显示出排好序的所有朋友的命名；\n",
    "\n",
    "(3) 将“Albert Einstein”添加到你的朋友姓名列表中；\n",
    "\n",
    "(4) 显示列表的长度；"
   ]
  },
  {
   "cell_type": "code",
   "execution_count": 12,
   "metadata": {},
   "outputs": [
    {
     "name": "stdout",
     "output_type": "stream",
     "text": [
      "['Lucy', 'Alice', 'Ben', 'John']\n"
     ]
    }
   ],
   "source": [
    "names = [\"Lucy\",\"Alice\",\"Ben\",\"John\"]\n",
    "print(names)"
   ]
  },
  {
   "cell_type": "code",
   "execution_count": 13,
   "metadata": {},
   "outputs": [
    {
     "name": "stdout",
     "output_type": "stream",
     "text": [
      "['Alice', 'Ben', 'John', 'Lucy']\n"
     ]
    }
   ],
   "source": [
    "print(sorted(names))"
   ]
  },
  {
   "cell_type": "code",
   "execution_count": 14,
   "metadata": {},
   "outputs": [],
   "source": [
    "names.append(\"Albert Einstein\")"
   ]
  },
  {
   "cell_type": "code",
   "execution_count": 15,
   "metadata": {},
   "outputs": [
    {
     "name": "stdout",
     "output_type": "stream",
     "text": [
      "5\n"
     ]
    }
   ],
   "source": [
    "print(len(names))"
   ]
  },
  {
   "cell_type": "markdown",
   "metadata": {},
   "source": [
    "### 3. 创建一个列表，其中包含3~30 内能被3 整除的数字；再使用一个for循环将这个列表中的数字都打印出来。"
   ]
  },
  {
   "cell_type": "code",
   "execution_count": 17,
   "metadata": {},
   "outputs": [
    {
     "name": "stdout",
     "output_type": "stream",
     "text": [
      "[3, 6, 9, 12, 15, 18, 21, 24, 27]\n"
     ]
    }
   ],
   "source": [
    "wanted_list = []\n",
    "for i in range(10):\n",
    "    if i != 0:\n",
    "        wanted_list.append(i*3)\n",
    "print(wanted_list)"
   ]
  },
  {
   "cell_type": "markdown",
   "metadata": {},
   "source": [
    "### 4. 创建一个至少包含5 个用户名的列表，且其中一个用户名为'admin'。想象你要编写代码，在每位用户登录网站后都打印一条问候消息。遍历用户名列表，并向每位用户打印一条问候消息。如果用户名为'admin'，就打印一条特殊的问候消息，如“Hello admin, would you like to see a status report?”。否则，打印一条普通的问候消息，如“Hello Eric, thank you for logging in again”。"
   ]
  },
  {
   "cell_type": "code",
   "execution_count": 22,
   "metadata": {},
   "outputs": [
    {
     "name": "stdout",
     "output_type": "stream",
     "text": [
      "ERROR!!!\n"
     ]
    }
   ],
   "source": [
    "'''\n",
    "user_list 用户列表\n",
    "login_user 登录用户名\n",
    "可以处理3种情况：\n",
    "- 用户名为admin: 输出Hello admin, would you like to see a status report?\n",
    "- 用户名为user_list中除了admin以外的其他用户：输出Hello 用户名， thank you for logging in again\n",
    "- 用户名不在user_list中：输出ERROR\n",
    "'''\n",
    "user_list = [\"admin\",\"Alice\",\"Ben\",\"Eric\",\"Doris\"]\n",
    "login_user = \"Einstn\"\n",
    "flag = 0\n",
    "for user in user_list:\n",
    "    if user == login_user and user != \"admin\":\n",
    "        print(\"Hello\",user,\", thank you for logging in again\")\n",
    "        flag = 1\n",
    "    if user == login_user and user == \"admin\":\n",
    "        print(\"Hello admin, would you like to see a status report?\")\n",
    "        flag = 1\n",
    "if flag == 0:\n",
    "    print(\"ERROR!!!\")\n"
   ]
  },
  {
   "cell_type": "code",
   "execution_count": 23,
   "metadata": {},
   "outputs": [
    {
     "name": "stdout",
     "output_type": "stream",
     "text": [
      "Hello admin, would you like to see a status report?\n"
     ]
    }
   ],
   "source": [
    "user_list = [\"admin\",\"Alice\",\"Ben\",\"Eric\",\"Doris\"]\n",
    "login_user = \"admin\"\n",
    "flag = 0\n",
    "for user in user_list:\n",
    "    if user == login_user and user != \"admin\":\n",
    "        print(\"Hello\",user,\", thank you for logging in again\")\n",
    "        flag = 1\n",
    "    if user == login_user and user == \"admin\":\n",
    "        print(\"Hello admin, would you like to see a status report?\")\n",
    "        flag = 1\n",
    "if flag == 0:\n",
    "    print(\"ERROR!!!\")\n"
   ]
  },
  {
   "cell_type": "code",
   "execution_count": 24,
   "metadata": {},
   "outputs": [
    {
     "name": "stdout",
     "output_type": "stream",
     "text": [
      "Hello Alice , thank you for logging in again\n"
     ]
    }
   ],
   "source": [
    "user_list = [\"admin\",\"Alice\",\"Ben\",\"Eric\",\"Doris\"]\n",
    "login_user = \"Alice\"\n",
    "flag = 0\n",
    "for user in user_list:\n",
    "    if user == login_user and user != \"admin\":\n",
    "        print(\"Hello\",user,\", thank you for logging in again\")\n",
    "        flag = 1\n",
    "    if user == login_user and user == \"admin\":\n",
    "        print(\"Hello admin, would you like to see a status report?\")\n",
    "        flag = 1\n",
    "if flag == 0:\n",
    "    print(\"ERROR!!!\")"
   ]
  },
  {
   "cell_type": "markdown",
   "metadata": {},
   "source": [
    "### 5. 给你一个整数组成的列表L，按照下列条件输出：\n",
    "* 若L是升序排列的,则输出\"UP\";\n",
    "* 若L是降序排列的,则输出\"DOWN\";\n",
    "* 若L无序，则输出\"WRONG\"。"
   ]
  },
  {
   "cell_type": "code",
   "execution_count": 43,
   "metadata": {},
   "outputs": [
    {
     "name": "stdout",
     "output_type": "stream",
     "text": [
      "WRONG\n"
     ]
    }
   ],
   "source": [
    "L = [1,10,3,4,5]\n",
    "if L == sorted(L):\n",
    "    print(\"UP\")\n",
    "elif L == sorted(L,reverse = True):\n",
    "    print(\"DOWN\")\n",
    "else:\n",
    "    print(\"WRONG\")"
   ]
  },
  {
   "cell_type": "code",
   "execution_count": 44,
   "metadata": {},
   "outputs": [
    {
     "name": "stdout",
     "output_type": "stream",
     "text": [
      "UP\n"
     ]
    }
   ],
   "source": [
    "L = [1,2,3,4,5]\n",
    "if L == sorted(L):\n",
    "    print(\"UP\")\n",
    "elif L == sorted(L,reverse = True):\n",
    "    print(\"DOWN\")\n",
    "else:\n",
    "    print(\"WRONG\")"
   ]
  },
  {
   "cell_type": "code",
   "execution_count": 45,
   "metadata": {},
   "outputs": [
    {
     "name": "stdout",
     "output_type": "stream",
     "text": [
      "DOWN\n"
     ]
    }
   ],
   "source": [
    "L = [5,4,3,2,1]\n",
    "if L == sorted(L):\n",
    "    print(\"UP\")\n",
    "elif L == sorted(L,reverse = True):\n",
    "    print(\"DOWN\")\n",
    "else:\n",
    "    print(\"WRONG\")"
   ]
  },
  {
   "cell_type": "markdown",
   "metadata": {},
   "source": [
    "### 6. 互联网上的每台计算机都有一个IP，合法的IP格式为：A.B.C.D。其中A、B、C、D均为[0, 255]中的整数。为了简单起见，我们规定这四个整数中不允许有前导零存在，如001。现在给你一个字符串s（s不含空白符），请你判断s是不是合法IP，若是，输出Yes，否则输出No。如：s=“202.115.32.24”，则输出Yes；s=“a.11.11.11”, 则输出No。"
   ]
  },
  {
   "cell_type": "code",
   "execution_count": 62,
   "metadata": {},
   "outputs": [
    {
     "name": "stdout",
     "output_type": "stream",
     "text": [
      "Yes\n"
     ]
    }
   ],
   "source": [
    "s = \"245.115.32.24\"\n",
    "number_list = ['0','1','2','3','4','5','6','7','8','9']\n",
    "temp = 0\n",
    "flag = 0\n",
    "for item in s:\n",
    "    if item in number_list:\n",
    "        temp = temp * 10 + int(item)\n",
    "    if item == '.':\n",
    "        if temp >= 0 and temp <= 255:\n",
    "            flag = 0\n",
    "        if temp < 0 or temp > 255:\n",
    "            print(\"No\")\n",
    "            flag = 1\n",
    "            break\n",
    "        temp = 0\n",
    "    if item not in number_list and item != '.':\n",
    "        print(\"No\")\n",
    "        flag = 1\n",
    "        break\n",
    "if flag == 0:    \n",
    "    if temp >= 0 and temp <= 255:\n",
    "        flag = 0\n",
    "        print(\"Yes\")\n",
    "    else:\n",
    "        flag = 1\n",
    "        print(\"No\")"
   ]
  },
  {
   "cell_type": "markdown",
   "metadata": {},
   "source": [
    "### 7. 创建一个名为sandwich_orders 的列表，在其中包含各种三明治的名字；再创建一个名为finished_sandwiches 的空列表。遍历列表sandwich_orders，对于其中的每种三明治，都打印一条消息，如I made your tuna sandwich，并将其移到列表finished_sandwiches。所有三明治都制作好后，打印一条消息，将这些三明治列出来。"
   ]
  },
  {
   "cell_type": "code",
   "execution_count": 65,
   "metadata": {},
   "outputs": [
    {
     "name": "stdout",
     "output_type": "stream",
     "text": [
      "i =  0\n",
      "I made your tuna sandwich\n",
      "Now the sandwich_orders is: ['fried egg sandwich', 'ham sandwich', 'Bacon sandwich', 'tomato sandwich', 'cheese sandwich']\n",
      "Now the finished_sandwiches is: ['tuna sandwich']\n",
      "i =  1\n",
      "I made your fried egg sandwich\n",
      "Now the sandwich_orders is: ['ham sandwich', 'Bacon sandwich', 'tomato sandwich', 'cheese sandwich']\n",
      "Now the finished_sandwiches is: ['tuna sandwich', 'fried egg sandwich']\n",
      "i =  2\n",
      "I made your ham sandwich\n",
      "Now the sandwich_orders is: ['Bacon sandwich', 'tomato sandwich', 'cheese sandwich']\n",
      "Now the finished_sandwiches is: ['tuna sandwich', 'fried egg sandwich', 'ham sandwich']\n",
      "i =  3\n",
      "I made your Bacon sandwich\n",
      "Now the sandwich_orders is: ['tomato sandwich', 'cheese sandwich']\n",
      "Now the finished_sandwiches is: ['tuna sandwich', 'fried egg sandwich', 'ham sandwich', 'Bacon sandwich']\n",
      "i =  4\n",
      "I made your tomato sandwich\n",
      "Now the sandwich_orders is: ['cheese sandwich']\n",
      "Now the finished_sandwiches is: ['tuna sandwich', 'fried egg sandwich', 'ham sandwich', 'Bacon sandwich', 'tomato sandwich']\n",
      "i =  5\n",
      "I made your cheese sandwich\n",
      "Now the sandwich_orders is: []\n",
      "Now the finished_sandwiches is: ['tuna sandwich', 'fried egg sandwich', 'ham sandwich', 'Bacon sandwich', 'tomato sandwich', 'cheese sandwich']\n"
     ]
    }
   ],
   "source": [
    "sandwich_orders = [\"tuna sandwich\",\"fried egg sandwich\",\"ham sandwich\",\"Bacon sandwich\",\"tomato sandwich\",\"cheese sandwich\"]\n",
    "finished_sandwiches = []\n",
    "for i in range(len(sandwich_orders)):\n",
    "    print(\"i = \",i)\n",
    "    sandwich = sandwich_orders[0]\n",
    "    print(\"I made your\",sandwich)\n",
    "    finished_sandwiches.append(sandwich)\n",
    "    del sandwich_orders[0]\n",
    "    print(\"Now the sandwich_orders is:\",sandwich_orders)\n",
    "    print(\"Now the finished_sandwiches is:\",finished_sandwiches)"
   ]
  },
  {
   "cell_type": "markdown",
   "metadata": {},
   "source": [
    "### 8. 创建一个名为cities 的字典，其中将三个城市名用作键；对于每座城市，都创建一个字典，并在其中包含该城市所属的国家、人口约数以及一个有关该城市的事实。在表示每座城市的字典中，应包含country、population 和fact 等键。将每座城市的名字以及有关它们的信息都打印出来。"
   ]
  },
  {
   "cell_type": "code",
   "execution_count": 66,
   "metadata": {},
   "outputs": [
    {
     "name": "stdout",
     "output_type": "stream",
     "text": [
      "{'city_1': {'population': 'population of city 1', 'country': 'country of city 1', 'fact': 'fact of city 1'}, 'city_2': {'population': 'population of city 2', 'country': 'country of city 2', 'fact': 'fact of city 2'}}\n"
     ]
    }
   ],
   "source": [
    "cities = {\"city_1\":{\"population\":\"population of city 1\",\"country\":\"country of city 1\",\"fact\":\"fact of city 1\"},\"city_2\": {\"population\":\"population of city 2\",\"country\":\"country of city 2\",\"fact\":\"fact of city 2\"}}\n",
    "print(cities)"
   ]
  },
  {
   "cell_type": "markdown",
   "metadata": {},
   "source": [
    "### 9. 给你一个时间t，t是一个字典，共有六个字符串键(year, month, day, hour, minute, second)，每个值为数字组成的字符串，如t = {‘year’:‘2013’, ‘month’:‘9’, ‘day’:‘30’, ‘hour’:‘16’, ‘minute’:‘45’, ‘second’:‘2‘}。请将其按照以下格式输出：XXXX-XX-XX XX:XX:XX。如上例应该输出：2013-09-30 16:45:02。"
   ]
  },
  {
   "cell_type": "code",
   "execution_count": 67,
   "metadata": {},
   "outputs": [
    {
     "name": "stdout",
     "output_type": "stream",
     "text": [
      "2019-07-30 16:45:02\n"
     ]
    }
   ],
   "source": [
    "# (year, month, day, hour, minute, second) 2013-09-30 16:45:02\n",
    "t = {\"year\":2019,\"month\":7,\"day\":30,\"hour\":16,\"minute\":45,\"second\":2}\n",
    "if t[\"month\"] < 10:\n",
    "    month = '0' + str(t[\"month\"])\n",
    "else:\n",
    "     month = str(t[\"month\"])\n",
    "if t[\"day\"] < 10 :\n",
    "    day = '0' + str(t[\"day\"])\n",
    "else:\n",
    "    day = str(t[\"day\"])\n",
    "if t[\"hour\"] < 10 :\n",
    "    hour = '0' + str(t[\"hour\"])\n",
    "else:\n",
    "    hour = str(t[\"hour\"])\n",
    "if t[\"minute\"] < 10 :\n",
    "    minute = '0' + str(t[\"minute\"])\n",
    "else:\n",
    "    minute = str(t[\"minute\"])\n",
    "if t[\"second\"] < 10 :\n",
    "    second = '0' + str(t[\"second\"])\n",
    "else:\n",
    "    second = str(t[\"second\"])\n",
    "result = str(t[\"year\"]) + '-'+ month + '-'+ day + \" \" + hour + ':' + minute + ':' + second\n",
    "print(result)"
   ]
  },
  {
   "cell_type": "markdown",
   "metadata": {},
   "source": [
    "### 10. 编写一个名为favorite_book()的函数，其中包含一个名为title的形参。这个函数打印一条消息，如One of my favorite books is Alice in Wonderland。调用这个函数，并将一本图书的名称作为实参传递给它。"
   ]
  },
  {
   "cell_type": "code",
   "execution_count": 68,
   "metadata": {},
   "outputs": [
    {
     "name": "stdout",
     "output_type": "stream",
     "text": [
      "One of my favorite books is Alice in Wonderland\n"
     ]
    }
   ],
   "source": [
    "def favorite_book(title):\n",
    "    print(\"One of my favorite books is\",title)\n",
    "\n",
    "favorite_book(\"Alice in Wonderland\")"
   ]
  }
 ],
 "metadata": {
  "kernelspec": {
   "display_name": "Python 3",
   "language": "python",
   "name": "python3"
  },
  "language_info": {
   "codemirror_mode": {
    "name": "ipython",
    "version": 3
   },
   "file_extension": ".py",
   "mimetype": "text/x-python",
   "name": "python",
   "nbconvert_exporter": "python",
   "pygments_lexer": "ipython3",
   "version": "3.7.4"
  }
 },
 "nbformat": 4,
 "nbformat_minor": 2
}
